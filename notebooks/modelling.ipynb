{
 "cells": [
  {
   "cell_type": "code",
   "execution_count": 1,
   "metadata": {},
   "outputs": [],
   "source": [
    "import mlflow\n",
    "from mlflow.tracking import MlflowClient\n",
    "client = MlflowClient(tracking_uri=mlflow.get_tracking_uri())\n",
    "\n",
    "import pandas as pd\n",
    "import seaborn as sns\n",
    "import numpy as np\n",
    "from sklearn.linear_model import LinearRegression\n",
    "from sklearn.metrics import mean_squared_error\n",
    "from typing import Tuple"
   ]
  },
  {
   "cell_type": "markdown",
   "metadata": {},
   "source": [
    "### Defining paths and loading data"
   ]
  },
  {
   "cell_type": "code",
   "execution_count": 2,
   "metadata": {},
   "outputs": [],
   "source": [
    "DATA_FOLDER = \"../data/processed\"\n",
    "train_path = f\"{DATA_FOLDER}/train.csv\"\n",
    "test_path = f\"{DATA_FOLDER}/test.csv\""
   ]
  },
  {
   "cell_type": "code",
   "execution_count": 3,
   "metadata": {},
   "outputs": [],
   "source": [
    "def load_data(path: str) -> pd.DataFrame:\n",
    "    return pd.read_csv(path)\n",
    "\n",
    "train_df = load_data(train_path)\n",
    "test_df = load_data(test_path)"
   ]
  },
  {
   "cell_type": "code",
   "execution_count": 4,
   "metadata": {},
   "outputs": [],
   "source": [
    "def extract_x_y(df: pd.DataFrame) -> Tuple[pd.DataFrame, np.ndarray]:\n",
    "    y = df[\"age\"].values\n",
    "    X = df.drop(columns={\"age\"})\n",
    "    return X, y\n",
    "\n",
    "X_train, y_train = extract_x_y(train_df)\n",
    "X_test, y_test = extract_x_y(test_df)"
   ]
  },
  {
   "cell_type": "markdown",
   "metadata": {},
   "source": [
    "### Training Linear Regression model"
   ]
  },
  {
   "cell_type": "code",
   "execution_count": 5,
   "metadata": {},
   "outputs": [],
   "source": [
    "def train_model(X_train: pd.DataFrame, y_train: np.ndarray) -> LinearRegression:\n",
    "    lr = LinearRegression()\n",
    "    lr.fit(X_train, y_train)\n",
    "    return lr\n",
    "\n",
    "model = train_model(X_train, y_train)"
   ]
  },
  {
   "cell_type": "code",
   "execution_count": 6,
   "metadata": {},
   "outputs": [
    {
     "data": {
      "text/plain": [
       "4.7839456136066145"
      ]
     },
     "execution_count": 6,
     "metadata": {},
     "output_type": "execute_result"
    }
   ],
   "source": [
    "def predict_age(input_data: pd.DataFrame, model: LinearRegression):\n",
    "    return model.predict(input_data)\n",
    "\n",
    "def evaluate_model(y_true: np.ndarray, y_pred: np.ndarray):\n",
    "    return mean_squared_error(y_true, y_pred)\n",
    "\n",
    "prediction = predict_age(X_train, model)\n",
    "train_mse = evaluate_model(y_train, prediction)\n",
    "train_mse"
   ]
  },
  {
   "cell_type": "code",
   "execution_count": 7,
   "metadata": {},
   "outputs": [
    {
     "data": {
      "text/plain": [
       "4.703226771601591"
      ]
     },
     "execution_count": 7,
     "metadata": {},
     "output_type": "execute_result"
    }
   ],
   "source": [
    "y_pred_test = predict_age(X_test, model)\n",
    "test_mse = evaluate_model(y_test, y_pred_test)\n",
    "test_mse"
   ]
  },
  {
   "cell_type": "markdown",
   "metadata": {},
   "source": [
    "### MLFlow"
   ]
  },
  {
   "cell_type": "code",
   "execution_count": 8,
   "metadata": {},
   "outputs": [
    {
     "name": "stderr",
     "output_type": "stream",
     "text": [
      "2023/10/23 11:52:01 INFO mlflow.tracking.fluent: Experiment with name 'abalone-prediction' does not exist. Creating a new experiment.\n"
     ]
    },
    {
     "name": "stderr",
     "output_type": "stream",
     "text": [
      "Successfully registered model 'abalone_lr_model'.\n",
      "2023/10/23 11:52:01 INFO mlflow.tracking._model_registry.client: Waiting up to 300 seconds for model version to finish creation. Model name: abalone_lr_model, version 1\n",
      "Created version '1' of model 'abalone_lr_model'.\n"
     ]
    }
   ],
   "source": [
    "# Set the experiment name\n",
    "mlflow.set_experiment(\"abalone-prediction\")\n",
    "\n",
    "# Start a run\n",
    "with mlflow.start_run() as run:\n",
    "    run_id = run.info.run_id\n",
    "\n",
    "    # Load data\n",
    "    train_df, test_df = load_data(train_path), load_data(test_path)\n",
    "\n",
    "    # Extract X and y\n",
    "    X_train, y_train = extract_x_y(train_df)\n",
    "    X_test, y_test = extract_x_y(test_df)\n",
    "\n",
    "    # Train model\n",
    "    model = train_model(X_train, y_train)\n",
    "\n",
    "    # Evaluate model\n",
    "    y_pred_train = model.predict(X_train)\n",
    "    mse_train = evaluate_model(y_train, y_pred_train)\n",
    "\n",
    "    # Evaluate model on test set\n",
    "    y_pred_test = model.predict(X_test)\n",
    "    mse_test = evaluate_model(y_test, y_pred_test)\n",
    "\n",
    "    # Log your model\n",
    "    mlflow.log_metric(\"Training MSE\", mse_train)\n",
    "    mlflow.log_metric(\"Test MSE\", mse_test)\n",
    "\n",
    "    # Register your model in mlfow model registry\n",
    "    result = mlflow.register_model(f\"runs:/{run_id}/models\", \"abalone_lr_model\")"
   ]
  },
  {
   "cell_type": "code",
   "execution_count": 9,
   "metadata": {},
   "outputs": [
    {
     "data": {
      "text/plain": [
       "<ModelVersion: aliases=[], creation_timestamp=1698054721664, current_stage='Production', description=None, last_updated_timestamp=1698054721728, name='abalone_lr_model', run_id='883cebfd1cfc4a3c9c38e2e1fee8927f', run_link=None, source='file:///c:/Users/Joseph%20Moussa/Desktop/X/4A/Project/xhec-mlops-JIMAMS/notebooks/mlruns/450678049195762416/883cebfd1cfc4a3c9c38e2e1fee8927f/artifacts/models', status='READY', status_message=None, tags={}, user_id=None, version=1>"
      ]
     },
     "execution_count": 9,
     "metadata": {},
     "output_type": "execute_result"
    }
   ],
   "source": [
    "client = MlflowClient()\n",
    "client.transition_model_version_stage(\n",
    "    name='abalone_lr_model',\n",
    "    version=1,\n",
    "    stage=\"Production\"\n",
    ") "
   ]
  }
 ],
 "metadata": {
  "kernelspec": {
   "display_name": "x-hec-solution",
   "language": "python",
   "name": "python3"
  },
  "language_info": {
   "codemirror_mode": {
    "name": "ipython",
    "version": 3
   },
   "file_extension": ".py",
   "mimetype": "text/x-python",
   "name": "python",
   "nbconvert_exporter": "python",
   "pygments_lexer": "ipython3",
   "version": "3.10.10"
  },
  "orig_nbformat": 4
 },
 "nbformat": 4,
 "nbformat_minor": 2
}
